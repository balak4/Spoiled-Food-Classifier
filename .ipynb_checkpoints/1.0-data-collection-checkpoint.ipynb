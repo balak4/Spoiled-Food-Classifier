{
 "cells": [
  {
   "cell_type": "markdown",
   "metadata": {},
   "source": [
    "## Data Collection"
   ]
  },
  {
   "cell_type": "markdown",
   "metadata": {},
   "source": [
    "This notebook contains code to download training data from google images. \n",
    "\n",
    "_Credit: Adrian Rosebrock_"
   ]
  },
  {
   "cell_type": "code",
   "execution_count": 1,
   "metadata": {},
   "outputs": [],
   "source": [
    "# import the necessary packages\n",
    "from imutils import paths\n",
    "import argparse\n",
    "import requests\n",
    "import cv2\n",
    "import os\n",
    "\n",
    "# construct the argument parse and parse the arguments\n",
    "ap = argparse.ArgumentParser()\n",
    "ap.add_argument(\"-u\", \"--guac_urls\", required=True,\n",
    "\thelp=\"path to file containing image guac_urls\")\n",
    "ap.add_argument(\"-o\", \"--output\", required=True,\n",
    "\thelp=\"path to output directory of images\")\n",
    "args = vars(ap.parse_args())\n",
    "\n",
    "# grab the list of guac_urls from the input file, then initialize the\n",
    "# total number of images downloaded thus far\n",
    "rows = open(args[\"guac_urls\"]).read().strip().split(\"\\n\")\n",
    "total = 0\n",
    "\n",
    "# loop the guac_urls\n",
    "for url in rows:\n",
    "\ttry:\n",
    "\t\t# try to download the image\n",
    "\t\tr = requests.get(url, timeout=60)\n",
    "\n",
    "\t\t# save the image to disk\n",
    "\t\tp = os.path.sep.join([args[\"output\"], \"{}.jpg\".format(\n",
    "\t\t\tstr(total).zfill(8))])\n",
    "\t\tf = open(p, \"wb\")\n",
    "\t\tf.write(r.content)\n",
    "\t\tf.close()\n",
    "\n",
    "\t\t# update the counter\n",
    "\t\tprint(\"[INFO] downloaded: {}\".format(p))\n",
    "\t\ttotal += 1\n",
    "\n",
    "\t# handle if any exceptions are thrown during the download process\n",
    "\texcept:\n",
    "\t\tprint(\"[INFO] error downloading {}...skipping\".format(p))\n",
    "\n",
    "# loop over the image paths we just downloaded\n",
    "for imagePath in paths.list_images(args[\"output\"]):\n",
    "\t# initialize if the image should be deleted or not\n",
    "\tdelete = False\n",
    "\n",
    "\t# try to load the image\n",
    "\ttry:\n",
    "\t\timage = cv2.imread(imagePath)\n",
    "\n",
    "\t\t# if the image is `None` then we could not properly load it\n",
    "\t\t# from disk, so delete it\n",
    "\t\tif image is None:\n",
    "\t\t\tprint(\"None\")\n",
    "\t\t\tdelete = True\n",
    "\n",
    "\t# if OpenCV cannot load the image then the image is likely\n",
    "\t# corrupt so we should delete it\n",
    "\texcept:\n",
    "\t\tprint(\"Except\")\n",
    "\t\tdelete = True\n",
    "\n",
    "\t# check to see if the image should be deleted\n",
    "\tif delete:\n",
    "\t\tprint(\"[INFO] deleting {}\".format(imagePath))\n",
    "\t\tos.remove(imagePath)"
   ]
  },
  {
   "cell_type": "code",
   "execution_count": null,
   "metadata": {},
   "outputs": [],
   "source": []
  }
 ],
 "metadata": {
  "kernelspec": {
   "display_name": "Python 3",
   "language": "python",
   "name": "python3"
  },
  "language_info": {
   "codemirror_mode": {
    "name": "ipython",
    "version": 3
   },
   "file_extension": ".py",
   "mimetype": "text/x-python",
   "name": "python",
   "nbconvert_exporter": "python",
   "pygments_lexer": "ipython3",
   "version": "3.6.8"
  },
  "varInspector": {
   "cols": {
    "lenName": 16,
    "lenType": 16,
    "lenVar": 40
   },
   "kernels_config": {
    "python": {
     "delete_cmd_postfix": "",
     "delete_cmd_prefix": "del ",
     "library": "var_list.py",
     "varRefreshCmd": "print(var_dic_list())"
    },
    "r": {
     "delete_cmd_postfix": ") ",
     "delete_cmd_prefix": "rm(",
     "library": "var_list.r",
     "varRefreshCmd": "cat(var_dic_list()) "
    }
   },
   "types_to_exclude": [
    "module",
    "function",
    "builtin_function_or_method",
    "instance",
    "_Feature"
   ],
   "window_display": false
  }
 },
 "nbformat": 4,
 "nbformat_minor": 2
}
